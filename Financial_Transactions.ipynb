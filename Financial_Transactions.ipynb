{
 "cells": [
  {
   "cell_type": "code",
   "execution_count": 87,
   "metadata": {},
   "outputs": [],
   "source": [
    "# Import relevant packages \n",
    "import pandas as pd \n",
    "import numpy as np\n",
    "import plotly.express as px"
   ]
  },
  {
   "cell_type": "code",
   "execution_count": 90,
   "metadata": {},
   "outputs": [],
   "source": [
    "df = pd.read_csv('data/twm_customer.csv',sep=';')\n",
    "df = df.drop(columns=['cust_id','first_name','last_name','name_prefix','street_nbr','street_name','postal_code','city_name'])"
   ]
  },
  {
   "cell_type": "code",
   "execution_count": 89,
   "metadata": {},
   "outputs": [
    {
     "data": {
      "text/plain": [
       "income             640\n",
       "age                 77\n",
       "years_with_bank     10\n",
       "nbr_children         6\n",
       "gender               2\n",
       "marital_status       4\n",
       "state_code          33\n",
       "dtype: int64"
      ]
     },
     "execution_count": 89,
     "metadata": {},
     "output_type": "execute_result"
    }
   ],
   "source": [
    "df.nunique()"
   ]
  },
  {
   "cell_type": "code",
   "execution_count": 80,
   "metadata": {},
   "outputs": [
    {
     "data": {
      "text/html": [
       "<div>\n",
       "<style scoped>\n",
       "    .dataframe tbody tr th:only-of-type {\n",
       "        vertical-align: middle;\n",
       "    }\n",
       "\n",
       "    .dataframe tbody tr th {\n",
       "        vertical-align: top;\n",
       "    }\n",
       "\n",
       "    .dataframe thead th {\n",
       "        text-align: right;\n",
       "    }\n",
       "</style>\n",
       "<table border=\"1\" class=\"dataframe\">\n",
       "  <thead>\n",
       "    <tr style=\"text-align: right;\">\n",
       "      <th></th>\n",
       "      <th>income</th>\n",
       "      <th>age</th>\n",
       "      <th>years_with_bank</th>\n",
       "      <th>nbr_children</th>\n",
       "      <th>gender</th>\n",
       "      <th>marital_status</th>\n",
       "      <th>state_code</th>\n",
       "    </tr>\n",
       "  </thead>\n",
       "  <tbody>\n",
       "    <tr>\n",
       "      <th>0</th>\n",
       "      <td>26150</td>\n",
       "      <td>46</td>\n",
       "      <td>5</td>\n",
       "      <td>1</td>\n",
       "      <td>M</td>\n",
       "      <td>2</td>\n",
       "      <td>NV</td>\n",
       "    </tr>\n",
       "    <tr>\n",
       "      <th>1</th>\n",
       "      <td>6605</td>\n",
       "      <td>71</td>\n",
       "      <td>1</td>\n",
       "      <td>0</td>\n",
       "      <td>M</td>\n",
       "      <td>2</td>\n",
       "      <td>CA</td>\n",
       "    </tr>\n",
       "    <tr>\n",
       "      <th>2</th>\n",
       "      <td>18548</td>\n",
       "      <td>38</td>\n",
       "      <td>8</td>\n",
       "      <td>0</td>\n",
       "      <td>F</td>\n",
       "      <td>1</td>\n",
       "      <td>CA</td>\n",
       "    </tr>\n",
       "    <tr>\n",
       "      <th>3</th>\n",
       "      <td>47668</td>\n",
       "      <td>54</td>\n",
       "      <td>3</td>\n",
       "      <td>0</td>\n",
       "      <td>F</td>\n",
       "      <td>1</td>\n",
       "      <td>CA</td>\n",
       "    </tr>\n",
       "    <tr>\n",
       "      <th>4</th>\n",
       "      <td>44554</td>\n",
       "      <td>59</td>\n",
       "      <td>9</td>\n",
       "      <td>2</td>\n",
       "      <td>F</td>\n",
       "      <td>4</td>\n",
       "      <td>NY</td>\n",
       "    </tr>\n",
       "    <tr>\n",
       "      <th>...</th>\n",
       "      <td>...</td>\n",
       "      <td>...</td>\n",
       "      <td>...</td>\n",
       "      <td>...</td>\n",
       "      <td>...</td>\n",
       "      <td>...</td>\n",
       "      <td>...</td>\n",
       "    </tr>\n",
       "    <tr>\n",
       "      <th>742</th>\n",
       "      <td>14795</td>\n",
       "      <td>36</td>\n",
       "      <td>6</td>\n",
       "      <td>1</td>\n",
       "      <td>F</td>\n",
       "      <td>4</td>\n",
       "      <td>CA</td>\n",
       "    </tr>\n",
       "    <tr>\n",
       "      <th>743</th>\n",
       "      <td>26387</td>\n",
       "      <td>56</td>\n",
       "      <td>6</td>\n",
       "      <td>1</td>\n",
       "      <td>M</td>\n",
       "      <td>2</td>\n",
       "      <td>NY</td>\n",
       "    </tr>\n",
       "    <tr>\n",
       "      <th>744</th>\n",
       "      <td>61300</td>\n",
       "      <td>50</td>\n",
       "      <td>0</td>\n",
       "      <td>2</td>\n",
       "      <td>M</td>\n",
       "      <td>2</td>\n",
       "      <td>NM</td>\n",
       "    </tr>\n",
       "    <tr>\n",
       "      <th>745</th>\n",
       "      <td>15100</td>\n",
       "      <td>37</td>\n",
       "      <td>7</td>\n",
       "      <td>0</td>\n",
       "      <td>F</td>\n",
       "      <td>2</td>\n",
       "      <td>AL</td>\n",
       "    </tr>\n",
       "    <tr>\n",
       "      <th>746</th>\n",
       "      <td>17875</td>\n",
       "      <td>18</td>\n",
       "      <td>3</td>\n",
       "      <td>0</td>\n",
       "      <td>F</td>\n",
       "      <td>1</td>\n",
       "      <td>CA</td>\n",
       "    </tr>\n",
       "  </tbody>\n",
       "</table>\n",
       "<p>747 rows × 7 columns</p>\n",
       "</div>"
      ],
      "text/plain": [
       "     income  age  years_with_bank  nbr_children gender  marital_status  \\\n",
       "0     26150   46                5             1     M                2   \n",
       "1      6605   71                1             0     M                2   \n",
       "2     18548   38                8             0     F                1   \n",
       "3     47668   54                3             0     F                1   \n",
       "4     44554   59                9             2     F                4   \n",
       "..      ...  ...              ...           ...    ...             ...   \n",
       "742   14795   36                6             1     F                4   \n",
       "743   26387   56                6             1     M                2   \n",
       "744   61300   50                0             2     M                2   \n",
       "745   15100   37                7             0     F                2   \n",
       "746   17875   18                3             0     F                1   \n",
       "\n",
       "    state_code  \n",
       "0         NV    \n",
       "1         CA    \n",
       "2         CA    \n",
       "3         CA    \n",
       "4         NY    \n",
       "..         ...  \n",
       "742       CA    \n",
       "743       NY    \n",
       "744       NM    \n",
       "745       AL    \n",
       "746       CA    \n",
       "\n",
       "[747 rows x 7 columns]"
      ]
     },
     "execution_count": 80,
     "metadata": {},
     "output_type": "execute_result"
    }
   ],
   "source": [
    "df"
   ]
  },
  {
   "cell_type": "code",
   "execution_count": 81,
   "metadata": {},
   "outputs": [],
   "source": [
    "state_list = ['NV', 'CA', 'NY', 'IL', 'HI', 'DC', 'TX', 'PA', 'OR', 'OH', 'WA', 'NJ', 'IN', 'CO', 'WI', 'MI', 'NB', 'AZ', 'MN', 'TN', 'VA', 'FL', 'MD', 'MO', 'LA', 'KY', 'OK', 'MA',\n",
    "'GA', 'KS', 'NC', 'NM', 'AL']"
   ]
  },
  {
   "cell_type": "code",
   "execution_count": 86,
   "metadata": {},
   "outputs": [
    {
     "data": {
      "application/vnd.plotly.v1+json": {
       "config": {
        "plotlyServerURL": "https://plot.ly"
       },
       "data": [
        {
         "colorbar": {
          "title": {
           "text": "Income USD"
          }
         },
         "colorscale": [
          [
           0,
           "rgb(255,245,240)"
          ],
          [
           0.125,
           "rgb(254,224,210)"
          ],
          [
           0.25,
           "rgb(252,187,161)"
          ],
          [
           0.375,
           "rgb(252,146,114)"
          ],
          [
           0.5,
           "rgb(251,106,74)"
          ],
          [
           0.625,
           "rgb(239,59,44)"
          ],
          [
           0.75,
           "rgb(203,24,29)"
          ],
          [
           0.875,
           "rgb(165,15,21)"
          ],
          [
           1,
           "rgb(103,0,13)"
          ]
         ],
         "locationmode": "USA-states",
         "locations": [
          "NV",
          "CA",
          "NY",
          "IL",
          "HI",
          "DC",
          "TX",
          "PA",
          "OR",
          "OH",
          "WA",
          "NJ",
          "IN",
          "CO",
          "WI",
          "MI",
          "NB",
          "AZ",
          "MN",
          "TN",
          "VA",
          "FL",
          "MD",
          "MO",
          "LA",
          "KY",
          "OK",
          "MA",
          "GA",
          "KS",
          "NC",
          "NM",
          "AL"
         ],
         "type": "choropleth",
         "z": [
          26150,
          6605,
          18548,
          47668,
          44554,
          15684,
          0,
          1929,
          39942,
          9622,
          25829,
          0,
          17622,
          8877,
          23351,
          0,
          10516,
          0,
          6354,
          21015,
          26505,
          3158,
          66930,
          19494,
          19334,
          6493,
          3171,
          8976,
          30664,
          21751,
          24326,
          76087,
          56597,
          36330,
          39991,
          24344,
          0,
          21663,
          13148,
          22690,
          10025,
          43317,
          24545,
          18036,
          10244,
          8011,
          24450,
          7571,
          17099,
          47083,
          0,
          0,
          60104,
          19823,
          24476,
          24368,
          34473,
          6300,
          51608,
          7335,
          29064,
          0,
          15246,
          17242,
          144157,
          27885,
          27492,
          5788,
          0,
          10933,
          15724,
          15993,
          4435,
          12396,
          9129,
          7431,
          16957,
          7633,
          0,
          1982,
          81509,
          25180,
          35502,
          0,
          23108,
          18350,
          12885,
          39704,
          55061,
          49258,
          7751,
          0,
          0,
          24534,
          0,
          31910,
          0,
          22001,
          14711,
          57194,
          28867,
          15530,
          20855,
          31040,
          8810,
          23206,
          57723,
          3994,
          90248,
          9351,
          8038,
          1039,
          7495,
          34080,
          14877,
          2925,
          84335,
          11935,
          83295,
          43900,
          68933,
          16422,
          24275,
          30676,
          0,
          12823,
          6356,
          13811,
          5488,
          0,
          27649,
          11944,
          2769,
          17559,
          12202,
          18144,
          34797,
          13295,
          0,
          56708,
          79057,
          75121,
          12258,
          2644,
          28864,
          0,
          3618,
          4391,
          38010,
          44288,
          5808,
          49731,
          2807,
          95585,
          15795,
          4626,
          10151,
          4604,
          55678,
          40898,
          39291,
          86744,
          3419,
          29363,
          36675,
          73785,
          11004,
          11375,
          9849,
          19789,
          21198,
          36873,
          9614,
          5022,
          29995,
          6105,
          30500,
          69432,
          12621,
          30224,
          18785,
          0,
          44472,
          0,
          57612,
          22437,
          15077,
          9916,
          12722,
          22758,
          29579,
          17612,
          18597,
          16865,
          14891,
          10430,
          0,
          7777,
          27814,
          41650,
          18891,
          37471,
          0,
          0,
          28402,
          27303,
          13515,
          29335,
          5940,
          6195,
          13750,
          13113,
          84120,
          41069,
          3400,
          19282,
          5772,
          49435,
          9146,
          19639,
          32739,
          34855,
          12485,
          12403,
          0,
          32551,
          3240,
          2715,
          45629,
          6144,
          0,
          3339,
          0,
          12106,
          0,
          0,
          61885,
          31054,
          23973,
          23843,
          3551,
          12728,
          4508,
          18760,
          36237,
          49623,
          129196,
          39703,
          19300,
          27258,
          25681,
          26598,
          11812,
          30068,
          17165,
          12690,
          35508,
          8381,
          17584,
          10919,
          12973,
          7968,
          28058,
          29241,
          0,
          0,
          19686,
          0,
          43315,
          19987,
          40252,
          0,
          5505,
          0,
          18449,
          26763,
          22680,
          20840,
          10608,
          27155,
          0,
          15301,
          9379,
          26364,
          17912,
          0,
          20889,
          18040,
          60242,
          0,
          0,
          36259,
          56384,
          20358,
          76376,
          0,
          2517,
          18390,
          8201,
          11725,
          30265,
          12310,
          22322,
          4300,
          15576,
          17750,
          18183,
          19840,
          29838,
          27269,
          77727,
          0,
          8301,
          10818,
          23085,
          12449,
          11918,
          41876,
          40671,
          9480,
          39250,
          35237,
          29403,
          0,
          36923,
          33010,
          0,
          82612,
          0,
          26936,
          31297,
          48479,
          3093,
          20745,
          33060,
          45464,
          17052,
          12033,
          20562,
          101177,
          9099,
          16579,
          14780,
          0,
          0,
          34394,
          12560,
          12599,
          37186,
          44758,
          0,
          41261,
          46884,
          7083,
          0,
          13352,
          22995,
          5456,
          8681,
          0,
          22783,
          9602,
          20684,
          25426,
          6618,
          13124,
          0,
          8575,
          0,
          26583,
          30674,
          8038,
          0,
          29120,
          57882,
          49631,
          12994,
          6355,
          0,
          17804,
          20179,
          54647,
          5918,
          0,
          0,
          12456,
          8257,
          30217,
          50704,
          21909,
          59542,
          10701,
          24131,
          15746,
          11029,
          0,
          30413,
          0,
          41317,
          11074,
          19863,
          37364,
          32700,
          43872,
          13137,
          7914,
          12988,
          2442,
          0,
          38736,
          45195,
          13497,
          8799,
          7735,
          33706,
          12436,
          33113,
          76891,
          5981,
          111004,
          31220,
          12072,
          127848,
          26008,
          8262,
          10053,
          23896,
          42532,
          72194,
          21646,
          17412,
          0,
          15399,
          12560,
          9271,
          18387,
          36586,
          9999,
          0,
          0,
          32065,
          20702,
          19088,
          9005,
          9495,
          5787,
          28093,
          59047,
          9738,
          7169,
          8961,
          57224,
          43737,
          49553,
          2772,
          56296,
          0,
          11244,
          14357,
          19019,
          30165,
          24090,
          0,
          22369,
          13241,
          77322,
          77893,
          31387,
          7642,
          0,
          28204,
          19645,
          11821,
          1591,
          0,
          21657,
          0,
          0,
          14141,
          90592,
          0,
          0,
          18176,
          3371,
          98566,
          30163,
          31732,
          27635,
          21384,
          65347,
          102286,
          30276,
          25827,
          4184,
          52542,
          63532,
          15554,
          6228,
          56266,
          7302,
          19041,
          6809,
          50890,
          0,
          11410,
          0,
          8345,
          22362,
          32728,
          4424,
          31496,
          39382,
          1565,
          17773,
          33905,
          29030,
          20691,
          58377,
          30989,
          22025,
          43582,
          13317,
          6909,
          26886,
          23883,
          93060,
          37180,
          17110,
          25973,
          10234,
          37438,
          29536,
          0,
          29040,
          3303,
          14769,
          0,
          35117,
          13087,
          16238,
          8048,
          44196,
          11946,
          0,
          9050,
          17401,
          68039,
          0,
          11600,
          19639,
          0,
          38917,
          19649,
          0,
          6479,
          12307,
          14011,
          0,
          26112,
          43381,
          16168,
          8282,
          0,
          7534,
          43408,
          0,
          3726,
          4366,
          8997,
          24815,
          11613,
          49437,
          6132,
          0,
          0,
          58217,
          11041,
          4187,
          32152,
          18806,
          28975,
          11485,
          39832,
          8120,
          13901,
          86055,
          25869,
          9307,
          19891,
          54734,
          7467,
          29570,
          22721,
          23476,
          0,
          94123,
          4804,
          6576,
          0,
          56088,
          29417,
          0,
          31013,
          26848,
          39754,
          0,
          7008,
          44071,
          20184,
          0,
          5779,
          20870,
          43691,
          2701,
          7701,
          19319,
          7826,
          0,
          13781,
          0,
          0,
          50980,
          26548,
          46712,
          44307,
          20926,
          27946,
          15895,
          58749,
          16718,
          15744,
          5848,
          0,
          26138,
          7154,
          11982,
          10250,
          31379,
          6700,
          142274,
          2858,
          0,
          14959,
          7617,
          41064,
          43710,
          34791,
          42031,
          7230,
          30015,
          6390,
          69205,
          18377,
          44592,
          28518,
          18466,
          40795,
          5781,
          84184,
          36761,
          1814,
          7353,
          15432,
          21746,
          16276,
          40798,
          4859,
          0,
          21460,
          43715,
          2684,
          24300,
          44307,
          0,
          57642,
          7005,
          13058,
          36464,
          8005,
          9848,
          8259,
          0,
          8423,
          47267,
          0,
          16986,
          36603,
          23294,
          44742,
          0,
          18663,
          65024,
          24843,
          75890,
          8088,
          17174,
          31641,
          4247,
          14458,
          46870,
          10800,
          12072,
          12664,
          20218,
          27239,
          38803,
          6108,
          49863,
          5920,
          0,
          23731,
          62234,
          52903,
          55888,
          2620,
          12158,
          83366,
          24368,
          0,
          24115,
          32581,
          0,
          0,
          54713,
          36614,
          46461,
          15139,
          2466,
          16319,
          24744,
          18920,
          2314,
          43829,
          9802,
          0,
          4431,
          29521,
          36605,
          13269,
          15864,
          2289,
          0,
          14795,
          26387,
          61300,
          15100,
          17875
         ]
        }
       ],
       "layout": {
        "autosize": true,
        "geo": {
         "scope": "usa"
        },
        "template": {
         "data": {
          "bar": [
           {
            "error_x": {
             "color": "#2a3f5f"
            },
            "error_y": {
             "color": "#2a3f5f"
            },
            "marker": {
             "line": {
              "color": "#E5ECF6",
              "width": 0.5
             }
            },
            "type": "bar"
           }
          ],
          "barpolar": [
           {
            "marker": {
             "line": {
              "color": "#E5ECF6",
              "width": 0.5
             }
            },
            "type": "barpolar"
           }
          ],
          "carpet": [
           {
            "aaxis": {
             "endlinecolor": "#2a3f5f",
             "gridcolor": "white",
             "linecolor": "white",
             "minorgridcolor": "white",
             "startlinecolor": "#2a3f5f"
            },
            "baxis": {
             "endlinecolor": "#2a3f5f",
             "gridcolor": "white",
             "linecolor": "white",
             "minorgridcolor": "white",
             "startlinecolor": "#2a3f5f"
            },
            "type": "carpet"
           }
          ],
          "choropleth": [
           {
            "colorbar": {
             "outlinewidth": 0,
             "ticks": ""
            },
            "type": "choropleth"
           }
          ],
          "contour": [
           {
            "colorbar": {
             "outlinewidth": 0,
             "ticks": ""
            },
            "colorscale": [
             [
              0,
              "#0d0887"
             ],
             [
              0.1111111111111111,
              "#46039f"
             ],
             [
              0.2222222222222222,
              "#7201a8"
             ],
             [
              0.3333333333333333,
              "#9c179e"
             ],
             [
              0.4444444444444444,
              "#bd3786"
             ],
             [
              0.5555555555555556,
              "#d8576b"
             ],
             [
              0.6666666666666666,
              "#ed7953"
             ],
             [
              0.7777777777777778,
              "#fb9f3a"
             ],
             [
              0.8888888888888888,
              "#fdca26"
             ],
             [
              1,
              "#f0f921"
             ]
            ],
            "type": "contour"
           }
          ],
          "contourcarpet": [
           {
            "colorbar": {
             "outlinewidth": 0,
             "ticks": ""
            },
            "type": "contourcarpet"
           }
          ],
          "heatmap": [
           {
            "colorbar": {
             "outlinewidth": 0,
             "ticks": ""
            },
            "colorscale": [
             [
              0,
              "#0d0887"
             ],
             [
              0.1111111111111111,
              "#46039f"
             ],
             [
              0.2222222222222222,
              "#7201a8"
             ],
             [
              0.3333333333333333,
              "#9c179e"
             ],
             [
              0.4444444444444444,
              "#bd3786"
             ],
             [
              0.5555555555555556,
              "#d8576b"
             ],
             [
              0.6666666666666666,
              "#ed7953"
             ],
             [
              0.7777777777777778,
              "#fb9f3a"
             ],
             [
              0.8888888888888888,
              "#fdca26"
             ],
             [
              1,
              "#f0f921"
             ]
            ],
            "type": "heatmap"
           }
          ],
          "heatmapgl": [
           {
            "colorbar": {
             "outlinewidth": 0,
             "ticks": ""
            },
            "colorscale": [
             [
              0,
              "#0d0887"
             ],
             [
              0.1111111111111111,
              "#46039f"
             ],
             [
              0.2222222222222222,
              "#7201a8"
             ],
             [
              0.3333333333333333,
              "#9c179e"
             ],
             [
              0.4444444444444444,
              "#bd3786"
             ],
             [
              0.5555555555555556,
              "#d8576b"
             ],
             [
              0.6666666666666666,
              "#ed7953"
             ],
             [
              0.7777777777777778,
              "#fb9f3a"
             ],
             [
              0.8888888888888888,
              "#fdca26"
             ],
             [
              1,
              "#f0f921"
             ]
            ],
            "type": "heatmapgl"
           }
          ],
          "histogram": [
           {
            "marker": {
             "colorbar": {
              "outlinewidth": 0,
              "ticks": ""
             }
            },
            "type": "histogram"
           }
          ],
          "histogram2d": [
           {
            "colorbar": {
             "outlinewidth": 0,
             "ticks": ""
            },
            "colorscale": [
             [
              0,
              "#0d0887"
             ],
             [
              0.1111111111111111,
              "#46039f"
             ],
             [
              0.2222222222222222,
              "#7201a8"
             ],
             [
              0.3333333333333333,
              "#9c179e"
             ],
             [
              0.4444444444444444,
              "#bd3786"
             ],
             [
              0.5555555555555556,
              "#d8576b"
             ],
             [
              0.6666666666666666,
              "#ed7953"
             ],
             [
              0.7777777777777778,
              "#fb9f3a"
             ],
             [
              0.8888888888888888,
              "#fdca26"
             ],
             [
              1,
              "#f0f921"
             ]
            ],
            "type": "histogram2d"
           }
          ],
          "histogram2dcontour": [
           {
            "colorbar": {
             "outlinewidth": 0,
             "ticks": ""
            },
            "colorscale": [
             [
              0,
              "#0d0887"
             ],
             [
              0.1111111111111111,
              "#46039f"
             ],
             [
              0.2222222222222222,
              "#7201a8"
             ],
             [
              0.3333333333333333,
              "#9c179e"
             ],
             [
              0.4444444444444444,
              "#bd3786"
             ],
             [
              0.5555555555555556,
              "#d8576b"
             ],
             [
              0.6666666666666666,
              "#ed7953"
             ],
             [
              0.7777777777777778,
              "#fb9f3a"
             ],
             [
              0.8888888888888888,
              "#fdca26"
             ],
             [
              1,
              "#f0f921"
             ]
            ],
            "type": "histogram2dcontour"
           }
          ],
          "mesh3d": [
           {
            "colorbar": {
             "outlinewidth": 0,
             "ticks": ""
            },
            "type": "mesh3d"
           }
          ],
          "parcoords": [
           {
            "line": {
             "colorbar": {
              "outlinewidth": 0,
              "ticks": ""
             }
            },
            "type": "parcoords"
           }
          ],
          "pie": [
           {
            "automargin": true,
            "type": "pie"
           }
          ],
          "scatter": [
           {
            "marker": {
             "colorbar": {
              "outlinewidth": 0,
              "ticks": ""
             }
            },
            "type": "scatter"
           }
          ],
          "scatter3d": [
           {
            "line": {
             "colorbar": {
              "outlinewidth": 0,
              "ticks": ""
             }
            },
            "marker": {
             "colorbar": {
              "outlinewidth": 0,
              "ticks": ""
             }
            },
            "type": "scatter3d"
           }
          ],
          "scattercarpet": [
           {
            "marker": {
             "colorbar": {
              "outlinewidth": 0,
              "ticks": ""
             }
            },
            "type": "scattercarpet"
           }
          ],
          "scattergeo": [
           {
            "marker": {
             "colorbar": {
              "outlinewidth": 0,
              "ticks": ""
             }
            },
            "type": "scattergeo"
           }
          ],
          "scattergl": [
           {
            "marker": {
             "colorbar": {
              "outlinewidth": 0,
              "ticks": ""
             }
            },
            "type": "scattergl"
           }
          ],
          "scattermapbox": [
           {
            "marker": {
             "colorbar": {
              "outlinewidth": 0,
              "ticks": ""
             }
            },
            "type": "scattermapbox"
           }
          ],
          "scatterpolar": [
           {
            "marker": {
             "colorbar": {
              "outlinewidth": 0,
              "ticks": ""
             }
            },
            "type": "scatterpolar"
           }
          ],
          "scatterpolargl": [
           {
            "marker": {
             "colorbar": {
              "outlinewidth": 0,
              "ticks": ""
             }
            },
            "type": "scatterpolargl"
           }
          ],
          "scatterternary": [
           {
            "marker": {
             "colorbar": {
              "outlinewidth": 0,
              "ticks": ""
             }
            },
            "type": "scatterternary"
           }
          ],
          "surface": [
           {
            "colorbar": {
             "outlinewidth": 0,
             "ticks": ""
            },
            "colorscale": [
             [
              0,
              "#0d0887"
             ],
             [
              0.1111111111111111,
              "#46039f"
             ],
             [
              0.2222222222222222,
              "#7201a8"
             ],
             [
              0.3333333333333333,
              "#9c179e"
             ],
             [
              0.4444444444444444,
              "#bd3786"
             ],
             [
              0.5555555555555556,
              "#d8576b"
             ],
             [
              0.6666666666666666,
              "#ed7953"
             ],
             [
              0.7777777777777778,
              "#fb9f3a"
             ],
             [
              0.8888888888888888,
              "#fdca26"
             ],
             [
              1,
              "#f0f921"
             ]
            ],
            "type": "surface"
           }
          ],
          "table": [
           {
            "cells": {
             "fill": {
              "color": "#EBF0F8"
             },
             "line": {
              "color": "white"
             }
            },
            "header": {
             "fill": {
              "color": "#C8D4E3"
             },
             "line": {
              "color": "white"
             }
            },
            "type": "table"
           }
          ]
         },
         "layout": {
          "annotationdefaults": {
           "arrowcolor": "#2a3f5f",
           "arrowhead": 0,
           "arrowwidth": 1
          },
          "autotypenumbers": "strict",
          "coloraxis": {
           "colorbar": {
            "outlinewidth": 0,
            "ticks": ""
           }
          },
          "colorscale": {
           "diverging": [
            [
             0,
             "#8e0152"
            ],
            [
             0.1,
             "#c51b7d"
            ],
            [
             0.2,
             "#de77ae"
            ],
            [
             0.3,
             "#f1b6da"
            ],
            [
             0.4,
             "#fde0ef"
            ],
            [
             0.5,
             "#f7f7f7"
            ],
            [
             0.6,
             "#e6f5d0"
            ],
            [
             0.7,
             "#b8e186"
            ],
            [
             0.8,
             "#7fbc41"
            ],
            [
             0.9,
             "#4d9221"
            ],
            [
             1,
             "#276419"
            ]
           ],
           "sequential": [
            [
             0,
             "#0d0887"
            ],
            [
             0.1111111111111111,
             "#46039f"
            ],
            [
             0.2222222222222222,
             "#7201a8"
            ],
            [
             0.3333333333333333,
             "#9c179e"
            ],
            [
             0.4444444444444444,
             "#bd3786"
            ],
            [
             0.5555555555555556,
             "#d8576b"
            ],
            [
             0.6666666666666666,
             "#ed7953"
            ],
            [
             0.7777777777777778,
             "#fb9f3a"
            ],
            [
             0.8888888888888888,
             "#fdca26"
            ],
            [
             1,
             "#f0f921"
            ]
           ],
           "sequentialminus": [
            [
             0,
             "#0d0887"
            ],
            [
             0.1111111111111111,
             "#46039f"
            ],
            [
             0.2222222222222222,
             "#7201a8"
            ],
            [
             0.3333333333333333,
             "#9c179e"
            ],
            [
             0.4444444444444444,
             "#bd3786"
            ],
            [
             0.5555555555555556,
             "#d8576b"
            ],
            [
             0.6666666666666666,
             "#ed7953"
            ],
            [
             0.7777777777777778,
             "#fb9f3a"
            ],
            [
             0.8888888888888888,
             "#fdca26"
            ],
            [
             1,
             "#f0f921"
            ]
           ]
          },
          "colorway": [
           "#636efa",
           "#EF553B",
           "#00cc96",
           "#ab63fa",
           "#FFA15A",
           "#19d3f3",
           "#FF6692",
           "#B6E880",
           "#FF97FF",
           "#FECB52"
          ],
          "font": {
           "color": "#2a3f5f"
          },
          "geo": {
           "bgcolor": "white",
           "lakecolor": "white",
           "landcolor": "#E5ECF6",
           "showlakes": true,
           "showland": true,
           "subunitcolor": "white"
          },
          "hoverlabel": {
           "align": "left"
          },
          "hovermode": "closest",
          "mapbox": {
           "style": "light"
          },
          "paper_bgcolor": "white",
          "plot_bgcolor": "#E5ECF6",
          "polar": {
           "angularaxis": {
            "gridcolor": "white",
            "linecolor": "white",
            "ticks": ""
           },
           "bgcolor": "#E5ECF6",
           "radialaxis": {
            "gridcolor": "white",
            "linecolor": "white",
            "ticks": ""
           }
          },
          "scene": {
           "xaxis": {
            "backgroundcolor": "#E5ECF6",
            "gridcolor": "white",
            "gridwidth": 2,
            "linecolor": "white",
            "showbackground": true,
            "ticks": "",
            "zerolinecolor": "white"
           },
           "yaxis": {
            "backgroundcolor": "#E5ECF6",
            "gridcolor": "white",
            "gridwidth": 2,
            "linecolor": "white",
            "showbackground": true,
            "ticks": "",
            "zerolinecolor": "white"
           },
           "zaxis": {
            "backgroundcolor": "#E5ECF6",
            "gridcolor": "white",
            "gridwidth": 2,
            "linecolor": "white",
            "showbackground": true,
            "ticks": "",
            "zerolinecolor": "white"
           }
          },
          "shapedefaults": {
           "line": {
            "color": "#2a3f5f"
           }
          },
          "ternary": {
           "aaxis": {
            "gridcolor": "white",
            "linecolor": "white",
            "ticks": ""
           },
           "baxis": {
            "gridcolor": "white",
            "linecolor": "white",
            "ticks": ""
           },
           "bgcolor": "#E5ECF6",
           "caxis": {
            "gridcolor": "white",
            "linecolor": "white",
            "ticks": ""
           }
          },
          "title": {
           "x": 0.05
          },
          "xaxis": {
           "automargin": true,
           "gridcolor": "white",
           "linecolor": "white",
           "ticks": "",
           "title": {
            "standoff": 15
           },
           "zerolinecolor": "white",
           "zerolinewidth": 2
          },
          "yaxis": {
           "automargin": true,
           "gridcolor": "white",
           "linecolor": "white",
           "ticks": "",
           "title": {
            "standoff": 15
           },
           "zerolinecolor": "white",
           "zerolinewidth": 2
          }
         }
        },
        "title": {
         "text": "TWM Customer Income by State"
        }
       }
      },
      "image/png": "[encoded data removed]",
      "text/html": [
       "<div>                            <div id=\"297cb5a7-a130-4cef-88d4-2438a9db05c8\" class=\"plotly-graph-div\" style=\"height:525px; width:100%;\"></div>            <script type=\"text/javascript\">                require([\"plotly\"], function(Plotly) {                    window.PLOTLYENV=window.PLOTLYENV || {};                                    if (document.getElementById(\"297cb5a7-a130-4cef-88d4-2438a9db05c8\")) {                    Plotly.newPlot(                        \"297cb5a7-a130-4cef-88d4-2438a9db05c8\",                        [{\"colorbar\": {\"title\": {\"text\": \"Income USD\"}}, \"colorscale\": [[0.0, \"rgb(255,245,240)\"], [0.125, \"rgb(254,224,210)\"], [0.25, \"rgb(252,187,161)\"], [0.375, \"rgb(252,146,114)\"], [0.5, \"rgb(251,106,74)\"], [0.625, \"rgb(239,59,44)\"], [0.75, \"rgb(203,24,29)\"], [0.875, \"rgb(165,15,21)\"], [1.0, \"rgb(103,0,13)\"]], \"locationmode\": \"USA-states\", \"locations\": [\"NV\", \"CA\", \"NY\", \"IL\", \"HI\", \"DC\", \"TX\", \"PA\", \"OR\", \"OH\", \"WA\", \"NJ\", \"IN\", \"CO\", \"WI\", \"MI\", \"NB\", \"AZ\", \"MN\", \"TN\", \"VA\", \"FL\", \"MD\", \"MO\", \"LA\", \"KY\", \"OK\", \"MA\", \"GA\", \"KS\", \"NC\", \"NM\", \"AL\"], \"type\": \"choropleth\", \"z\": [26150.0, 6605.0, 18548.0, 47668.0, 44554.0, 15684.0, 0.0, 1929.0, 39942.0, 9622.0, 25829.0, 0.0, 17622.0, 8877.0, 23351.0, 0.0, 10516.0, 0.0, 6354.0, 21015.0, 26505.0, 3158.0, 66930.0, 19494.0, 19334.0, 6493.0, 3171.0, 8976.0, 30664.0, 21751.0, 24326.0, 76087.0, 56597.0, 36330.0, 39991.0, 24344.0, 0.0, 21663.0, 13148.0, 22690.0, 10025.0, 43317.0, 24545.0, 18036.0, 10244.0, 8011.0, 24450.0, 7571.0, 17099.0, 47083.0, 0.0, 0.0, 60104.0, 19823.0, 24476.0, 24368.0, 34473.0, 6300.0, 51608.0, 7335.0, 29064.0, 0.0, 15246.0, 17242.0, 144157.0, 27885.0, 27492.0, 5788.0, 0.0, 10933.0, 15724.0, 15993.0, 4435.0, 12396.0, 9129.0, 7431.0, 16957.0, 7633.0, 0.0, 1982.0, 81509.0, 25180.0, 35502.0, 0.0, 23108.0, 18350.0, 12885.0, 39704.0, 55061.0, 49258.0, 7751.0, 0.0, 0.0, 24534.0, 0.0, 31910.0, 0.0, 22001.0, 14711.0, 57194.0, 28867.0, 15530.0, 20855.0, 31040.0, 8810.0, 23206.0, 57723.0, 3994.0, 90248.0, 9351.0, 8038.0, 1039.0, 7495.0, 34080.0, 14877.0, 2925.0, 84335.0, 11935.0, 83295.0, 43900.0, 68933.0, 16422.0, 24275.0, 30676.0, 0.0, 12823.0, 6356.0, 13811.0, 5488.0, 0.0, 27649.0, 11944.0, 2769.0, 17559.0, 12202.0, 18144.0, 34797.0, 13295.0, 0.0, 56708.0, 79057.0, 75121.0, 12258.0, 2644.0, 28864.0, 0.0, 3618.0, 4391.0, 38010.0, 44288.0, 5808.0, 49731.0, 2807.0, 95585.0, 15795.0, 4626.0, 10151.0, 4604.0, 55678.0, 40898.0, 39291.0, 86744.0, 3419.0, 29363.0, 36675.0, 73785.0, 11004.0, 11375.0, 9849.0, 19789.0, 21198.0, 36873.0, 9614.0, 5022.0, 29995.0, 6105.0, 30500.0, 69432.0, 12621.0, 30224.0, 18785.0, 0.0, 44472.0, 0.0, 57612.0, 22437.0, 15077.0, 9916.0, 12722.0, 22758.0, 29579.0, 17612.0, 18597.0, 16865.0, 14891.0, 10430.0, 0.0, 7777.0, 27814.0, 41650.0, 18891.0, 37471.0, 0.0, 0.0, 28402.0, 27303.0, 13515.0, 29335.0, 5940.0, 6195.0, 13750.0, 13113.0, 84120.0, 41069.0, 3400.0, 19282.0, 5772.0, 49435.0, 9146.0, 19639.0, 32739.0, 34855.0, 12485.0, 12403.0, 0.0, 32551.0, 3240.0, 2715.0, 45629.0, 6144.0, 0.0, 3339.0, 0.0, 12106.0, 0.0, 0.0, 61885.0, 31054.0, 23973.0, 23843.0, 3551.0, 12728.0, 4508.0, 18760.0, 36237.0, 49623.0, 129196.0, 39703.0, 19300.0, 27258.0, 25681.0, 26598.0, 11812.0, 30068.0, 17165.0, 12690.0, 35508.0, 8381.0, 17584.0, 10919.0, 12973.0, 7968.0, 28058.0, 29241.0, 0.0, 0.0, 19686.0, 0.0, 43315.0, 19987.0, 40252.0, 0.0, 5505.0, 0.0, 18449.0, 26763.0, 22680.0, 20840.0, 10608.0, 27155.0, 0.0, 15301.0, 9379.0, 26364.0, 17912.0, 0.0, 20889.0, 18040.0, 60242.0, 0.0, 0.0, 36259.0, 56384.0, 20358.0, 76376.0, 0.0, 2517.0, 18390.0, 8201.0, 11725.0, 30265.0, 12310.0, 22322.0, 4300.0, 15576.0, 17750.0, 18183.0, 19840.0, 29838.0, 27269.0, 77727.0, 0.0, 8301.0, 10818.0, 23085.0, 12449.0, 11918.0, 41876.0, 40671.0, 9480.0, 39250.0, 35237.0, 29403.0, 0.0, 36923.0, 33010.0, 0.0, 82612.0, 0.0, 26936.0, 31297.0, 48479.0, 3093.0, 20745.0, 33060.0, 45464.0, 17052.0, 12033.0, 20562.0, 101177.0, 9099.0, 16579.0, 14780.0, 0.0, 0.0, 34394.0, 12560.0, 12599.0, 37186.0, 44758.0, 0.0, 41261.0, 46884.0, 7083.0, 0.0, 13352.0, 22995.0, 5456.0, 8681.0, 0.0, 22783.0, 9602.0, 20684.0, 25426.0, 6618.0, 13124.0, 0.0, 8575.0, 0.0, 26583.0, 30674.0, 8038.0, 0.0, 29120.0, 57882.0, 49631.0, 12994.0, 6355.0, 0.0, 17804.0, 20179.0, 54647.0, 5918.0, 0.0, 0.0, 12456.0, 8257.0, 30217.0, 50704.0, 21909.0, 59542.0, 10701.0, 24131.0, 15746.0, 11029.0, 0.0, 30413.0, 0.0, 41317.0, 11074.0, 19863.0, 37364.0, 32700.0, 43872.0, 13137.0, 7914.0, 12988.0, 2442.0, 0.0, 38736.0, 45195.0, 13497.0, 8799.0, 7735.0, 33706.0, 12436.0, 33113.0, 76891.0, 5981.0, 111004.0, 31220.0, 12072.0, 127848.0, 26008.0, 8262.0, 10053.0, 23896.0, 42532.0, 72194.0, 21646.0, 17412.0, 0.0, 15399.0, 12560.0, 9271.0, 18387.0, 36586.0, 9999.0, 0.0, 0.0, 32065.0, 20702.0, 19088.0, 9005.0, 9495.0, 5787.0, 28093.0, 59047.0, 9738.0, 7169.0, 8961.0, 57224.0, 43737.0, 49553.0, 2772.0, 56296.0, 0.0, 11244.0, 14357.0, 19019.0, 30165.0, 24090.0, 0.0, 22369.0, 13241.0, 77322.0, 77893.0, 31387.0, 7642.0, 0.0, 28204.0, 19645.0, 11821.0, 1591.0, 0.0, 21657.0, 0.0, 0.0, 14141.0, 90592.0, 0.0, 0.0, 18176.0, 3371.0, 98566.0, 30163.0, 31732.0, 27635.0, 21384.0, 65347.0, 102286.0, 30276.0, 25827.0, 4184.0, 52542.0, 63532.0, 15554.0, 6228.0, 56266.0, 7302.0, 19041.0, 6809.0, 50890.0, 0.0, 11410.0, 0.0, 8345.0, 22362.0, 32728.0, 4424.0, 31496.0, 39382.0, 1565.0, 17773.0, 33905.0, 29030.0, 20691.0, 58377.0, 30989.0, 22025.0, 43582.0, 13317.0, 6909.0, 26886.0, 23883.0, 93060.0, 37180.0, 17110.0, 25973.0, 10234.0, 37438.0, 29536.0, 0.0, 29040.0, 3303.0, 14769.0, 0.0, 35117.0, 13087.0, 16238.0, 8048.0, 44196.0, 11946.0, 0.0, 9050.0, 17401.0, 68039.0, 0.0, 11600.0, 19639.0, 0.0, 38917.0, 19649.0, 0.0, 6479.0, 12307.0, 14011.0, 0.0, 26112.0, 43381.0, 16168.0, 8282.0, 0.0, 7534.0, 43408.0, 0.0, 3726.0, 4366.0, 8997.0, 24815.0, 11613.0, 49437.0, 6132.0, 0.0, 0.0, 58217.0, 11041.0, 4187.0, 32152.0, 18806.0, 28975.0, 11485.0, 39832.0, 8120.0, 13901.0, 86055.0, 25869.0, 9307.0, 19891.0, 54734.0, 7467.0, 29570.0, 22721.0, 23476.0, 0.0, 94123.0, 4804.0, 6576.0, 0.0, 56088.0, 29417.0, 0.0, 31013.0, 26848.0, 39754.0, 0.0, 7008.0, 44071.0, 20184.0, 0.0, 5779.0, 20870.0, 43691.0, 2701.0, 7701.0, 19319.0, 7826.0, 0.0, 13781.0, 0.0, 0.0, 50980.0, 26548.0, 46712.0, 44307.0, 20926.0, 27946.0, 15895.0, 58749.0, 16718.0, 15744.0, 5848.0, 0.0, 26138.0, 7154.0, 11982.0, 10250.0, 31379.0, 6700.0, 142274.0, 2858.0, 0.0, 14959.0, 7617.0, 41064.0, 43710.0, 34791.0, 42031.0, 7230.0, 30015.0, 6390.0, 69205.0, 18377.0, 44592.0, 28518.0, 18466.0, 40795.0, 5781.0, 84184.0, 36761.0, 1814.0, 7353.0, 15432.0, 21746.0, 16276.0, 40798.0, 4859.0, 0.0, 21460.0, 43715.0, 2684.0, 24300.0, 44307.0, 0.0, 57642.0, 7005.0, 13058.0, 36464.0, 8005.0, 9848.0, 8259.0, 0.0, 8423.0, 47267.0, 0.0, 16986.0, 36603.0, 23294.0, 44742.0, 0.0, 18663.0, 65024.0, 24843.0, 75890.0, 8088.0, 17174.0, 31641.0, 4247.0, 14458.0, 46870.0, 10800.0, 12072.0, 12664.0, 20218.0, 27239.0, 38803.0, 6108.0, 49863.0, 5920.0, 0.0, 23731.0, 62234.0, 52903.0, 55888.0, 2620.0, 12158.0, 83366.0, 24368.0, 0.0, 24115.0, 32581.0, 0.0, 0.0, 54713.0, 36614.0, 46461.0, 15139.0, 2466.0, 16319.0, 24744.0, 18920.0, 2314.0, 43829.0, 9802.0, 0.0, 4431.0, 29521.0, 36605.0, 13269.0, 15864.0, 2289.0, 0.0, 14795.0, 26387.0, 61300.0, 15100.0, 17875.0]}],                        {\"geo\": {\"scope\": \"usa\"}, \"template\": {\"data\": {\"bar\": [{\"error_x\": {\"color\": \"#2a3f5f\"}, \"error_y\": {\"color\": \"#2a3f5f\"}, \"marker\": {\"line\": {\"color\": \"#E5ECF6\", \"width\": 0.5}}, \"type\": \"bar\"}], \"barpolar\": [{\"marker\": {\"line\": {\"color\": \"#E5ECF6\", \"width\": 0.5}}, \"type\": \"barpolar\"}], \"carpet\": [{\"aaxis\": {\"endlinecolor\": \"#2a3f5f\", \"gridcolor\": \"white\", \"linecolor\": \"white\", \"minorgridcolor\": \"white\", \"startlinecolor\": \"#2a3f5f\"}, \"baxis\": {\"endlinecolor\": \"#2a3f5f\", \"gridcolor\": \"white\", \"linecolor\": \"white\", \"minorgridcolor\": \"white\", \"startlinecolor\": \"#2a3f5f\"}, \"type\": \"carpet\"}], \"choropleth\": [{\"colorbar\": {\"outlinewidth\": 0, \"ticks\": \"\"}, \"type\": \"choropleth\"}], \"contour\": [{\"colorbar\": {\"outlinewidth\": 0, \"ticks\": \"\"}, \"colorscale\": [[0.0, \"#0d0887\"], [0.1111111111111111, \"#46039f\"], [0.2222222222222222, \"#7201a8\"], [0.3333333333333333, \"#9c179e\"], [0.4444444444444444, \"#bd3786\"], [0.5555555555555556, \"#d8576b\"], [0.6666666666666666, \"#ed7953\"], [0.7777777777777778, \"#fb9f3a\"], [0.8888888888888888, \"#fdca26\"], [1.0, \"#f0f921\"]], \"type\": \"contour\"}], \"contourcarpet\": [{\"colorbar\": {\"outlinewidth\": 0, \"ticks\": \"\"}, \"type\": \"contourcarpet\"}], \"heatmap\": [{\"colorbar\": {\"outlinewidth\": 0, \"ticks\": \"\"}, \"colorscale\": [[0.0, \"#0d0887\"], [0.1111111111111111, \"#46039f\"], [0.2222222222222222, \"#7201a8\"], [0.3333333333333333, \"#9c179e\"], [0.4444444444444444, \"#bd3786\"], [0.5555555555555556, \"#d8576b\"], [0.6666666666666666, \"#ed7953\"], [0.7777777777777778, \"#fb9f3a\"], [0.8888888888888888, \"#fdca26\"], [1.0, \"#f0f921\"]], \"type\": \"heatmap\"}], \"heatmapgl\": [{\"colorbar\": {\"outlinewidth\": 0, \"ticks\": \"\"}, \"colorscale\": [[0.0, \"#0d0887\"], [0.1111111111111111, \"#46039f\"], [0.2222222222222222, \"#7201a8\"], [0.3333333333333333, \"#9c179e\"], [0.4444444444444444, \"#bd3786\"], [0.5555555555555556, \"#d8576b\"], [0.6666666666666666, \"#ed7953\"], [0.7777777777777778, \"#fb9f3a\"], [0.8888888888888888, \"#fdca26\"], [1.0, \"#f0f921\"]], \"type\": \"heatmapgl\"}], \"histogram\": [{\"marker\": {\"colorbar\": {\"outlinewidth\": 0, \"ticks\": \"\"}}, \"type\": \"histogram\"}], \"histogram2d\": [{\"colorbar\": {\"outlinewidth\": 0, \"ticks\": \"\"}, \"colorscale\": [[0.0, \"#0d0887\"], [0.1111111111111111, \"#46039f\"], [0.2222222222222222, \"#7201a8\"], [0.3333333333333333, \"#9c179e\"], [0.4444444444444444, \"#bd3786\"], [0.5555555555555556, \"#d8576b\"], [0.6666666666666666, \"#ed7953\"], [0.7777777777777778, \"#fb9f3a\"], [0.8888888888888888, \"#fdca26\"], [1.0, \"#f0f921\"]], \"type\": \"histogram2d\"}], \"histogram2dcontour\": [{\"colorbar\": {\"outlinewidth\": 0, \"ticks\": \"\"}, \"colorscale\": [[0.0, \"#0d0887\"], [0.1111111111111111, \"#46039f\"], [0.2222222222222222, \"#7201a8\"], [0.3333333333333333, \"#9c179e\"], [0.4444444444444444, \"#bd3786\"], [0.5555555555555556, \"#d8576b\"], [0.6666666666666666, \"#ed7953\"], [0.7777777777777778, \"#fb9f3a\"], [0.8888888888888888, \"#fdca26\"], [1.0, \"#f0f921\"]], \"type\": \"histogram2dcontour\"}], \"mesh3d\": [{\"colorbar\": {\"outlinewidth\": 0, \"ticks\": \"\"}, \"type\": \"mesh3d\"}], \"parcoords\": [{\"line\": {\"colorbar\": {\"outlinewidth\": 0, \"ticks\": \"\"}}, \"type\": \"parcoords\"}], \"pie\": [{\"automargin\": true, \"type\": \"pie\"}], \"scatter\": [{\"marker\": {\"colorbar\": {\"outlinewidth\": 0, \"ticks\": \"\"}}, \"type\": \"scatter\"}], \"scatter3d\": [{\"line\": {\"colorbar\": {\"outlinewidth\": 0, \"ticks\": \"\"}}, \"marker\": {\"colorbar\": {\"outlinewidth\": 0, \"ticks\": \"\"}}, \"type\": \"scatter3d\"}], \"scattercarpet\": [{\"marker\": {\"colorbar\": {\"outlinewidth\": 0, \"ticks\": \"\"}}, \"type\": \"scattercarpet\"}], \"scattergeo\": [{\"marker\": {\"colorbar\": {\"outlinewidth\": 0, \"ticks\": \"\"}}, \"type\": \"scattergeo\"}], \"scattergl\": [{\"marker\": {\"colorbar\": {\"outlinewidth\": 0, \"ticks\": \"\"}}, \"type\": \"scattergl\"}], \"scattermapbox\": [{\"marker\": {\"colorbar\": {\"outlinewidth\": 0, \"ticks\": \"\"}}, \"type\": \"scattermapbox\"}], \"scatterpolar\": [{\"marker\": {\"colorbar\": {\"outlinewidth\": 0, \"ticks\": \"\"}}, \"type\": \"scatterpolar\"}], \"scatterpolargl\": [{\"marker\": {\"colorbar\": {\"outlinewidth\": 0, \"ticks\": \"\"}}, \"type\": \"scatterpolargl\"}], \"scatterternary\": [{\"marker\": {\"colorbar\": {\"outlinewidth\": 0, \"ticks\": \"\"}}, \"type\": \"scatterternary\"}], \"surface\": [{\"colorbar\": {\"outlinewidth\": 0, \"ticks\": \"\"}, \"colorscale\": [[0.0, \"#0d0887\"], [0.1111111111111111, \"#46039f\"], [0.2222222222222222, \"#7201a8\"], [0.3333333333333333, \"#9c179e\"], [0.4444444444444444, \"#bd3786\"], [0.5555555555555556, \"#d8576b\"], [0.6666666666666666, \"#ed7953\"], [0.7777777777777778, \"#fb9f3a\"], [0.8888888888888888, \"#fdca26\"], [1.0, \"#f0f921\"]], \"type\": \"surface\"}], \"table\": [{\"cells\": {\"fill\": {\"color\": \"#EBF0F8\"}, \"line\": {\"color\": \"white\"}}, \"header\": {\"fill\": {\"color\": \"#C8D4E3\"}, \"line\": {\"color\": \"white\"}}, \"type\": \"table\"}]}, \"layout\": {\"annotationdefaults\": {\"arrowcolor\": \"#2a3f5f\", \"arrowhead\": 0, \"arrowwidth\": 1}, \"autotypenumbers\": \"strict\", \"coloraxis\": {\"colorbar\": {\"outlinewidth\": 0, \"ticks\": \"\"}}, \"colorscale\": {\"diverging\": [[0, \"#8e0152\"], [0.1, \"#c51b7d\"], [0.2, \"#de77ae\"], [0.3, \"#f1b6da\"], [0.4, \"#fde0ef\"], [0.5, \"#f7f7f7\"], [0.6, \"#e6f5d0\"], [0.7, \"#b8e186\"], [0.8, \"#7fbc41\"], [0.9, \"#4d9221\"], [1, \"#276419\"]], \"sequential\": [[0.0, \"#0d0887\"], [0.1111111111111111, \"#46039f\"], [0.2222222222222222, \"#7201a8\"], [0.3333333333333333, \"#9c179e\"], [0.4444444444444444, \"#bd3786\"], [0.5555555555555556, \"#d8576b\"], [0.6666666666666666, \"#ed7953\"], [0.7777777777777778, \"#fb9f3a\"], [0.8888888888888888, \"#fdca26\"], [1.0, \"#f0f921\"]], \"sequentialminus\": [[0.0, \"#0d0887\"], [0.1111111111111111, \"#46039f\"], [0.2222222222222222, \"#7201a8\"], [0.3333333333333333, \"#9c179e\"], [0.4444444444444444, \"#bd3786\"], [0.5555555555555556, \"#d8576b\"], [0.6666666666666666, \"#ed7953\"], [0.7777777777777778, \"#fb9f3a\"], [0.8888888888888888, \"#fdca26\"], [1.0, \"#f0f921\"]]}, \"colorway\": [\"#636efa\", \"#EF553B\", \"#00cc96\", \"#ab63fa\", \"#FFA15A\", \"#19d3f3\", \"#FF6692\", \"#B6E880\", \"#FF97FF\", \"#FECB52\"], \"font\": {\"color\": \"#2a3f5f\"}, \"geo\": {\"bgcolor\": \"white\", \"lakecolor\": \"white\", \"landcolor\": \"#E5ECF6\", \"showlakes\": true, \"showland\": true, \"subunitcolor\": \"white\"}, \"hoverlabel\": {\"align\": \"left\"}, \"hovermode\": \"closest\", \"mapbox\": {\"style\": \"light\"}, \"paper_bgcolor\": \"white\", \"plot_bgcolor\": \"#E5ECF6\", \"polar\": {\"angularaxis\": {\"gridcolor\": \"white\", \"linecolor\": \"white\", \"ticks\": \"\"}, \"bgcolor\": \"#E5ECF6\", \"radialaxis\": {\"gridcolor\": \"white\", \"linecolor\": \"white\", \"ticks\": \"\"}}, \"scene\": {\"xaxis\": {\"backgroundcolor\": \"#E5ECF6\", \"gridcolor\": \"white\", \"gridwidth\": 2, \"linecolor\": \"white\", \"showbackground\": true, \"ticks\": \"\", \"zerolinecolor\": \"white\"}, \"yaxis\": {\"backgroundcolor\": \"#E5ECF6\", \"gridcolor\": \"white\", \"gridwidth\": 2, \"linecolor\": \"white\", \"showbackground\": true, \"ticks\": \"\", \"zerolinecolor\": \"white\"}, \"zaxis\": {\"backgroundcolor\": \"#E5ECF6\", \"gridcolor\": \"white\", \"gridwidth\": 2, \"linecolor\": \"white\", \"showbackground\": true, \"ticks\": \"\", \"zerolinecolor\": \"white\"}}, \"shapedefaults\": {\"line\": {\"color\": \"#2a3f5f\"}}, \"ternary\": {\"aaxis\": {\"gridcolor\": \"white\", \"linecolor\": \"white\", \"ticks\": \"\"}, \"baxis\": {\"gridcolor\": \"white\", \"linecolor\": \"white\", \"ticks\": \"\"}, \"bgcolor\": \"#E5ECF6\", \"caxis\": {\"gridcolor\": \"white\", \"linecolor\": \"white\", \"ticks\": \"\"}}, \"title\": {\"x\": 0.05}, \"xaxis\": {\"automargin\": true, \"gridcolor\": \"white\", \"linecolor\": \"white\", \"ticks\": \"\", \"title\": {\"standoff\": 15}, \"zerolinecolor\": \"white\", \"zerolinewidth\": 2}, \"yaxis\": {\"automargin\": true, \"gridcolor\": \"white\", \"linecolor\": \"white\", \"ticks\": \"\", \"title\": {\"standoff\": 15}, \"zerolinecolor\": \"white\", \"zerolinewidth\": 2}}}, \"title\": {\"text\": \"TWM Customer Income by State\"}},                        {\"responsive\": true}                    ).then(function(){\n",
       "                            \n",
       "var gd = document.getElementById('297cb5a7-a130-4cef-88d4-2438a9db05c8');\n",
       "var x = new MutationObserver(function (mutations, observer) {{\n",
       "        var display = window.getComputedStyle(gd).display;\n",
       "        if (!display || display === 'none') {{\n",
       "            console.log([gd, 'removed!']);\n",
       "            Plotly.purge(gd);\n",
       "            observer.disconnect();\n",
       "        }}\n",
       "}});\n",
       "\n",
       "// Listen for the removal of the full notebook cells\n",
       "var notebookContainer = gd.closest('#notebook-container');\n",
       "if (notebookContainer) {{\n",
       "    x.observe(notebookContainer, {childList: true});\n",
       "}}\n",
       "\n",
       "// Listen for the clearing of the current output cell\n",
       "var outputEl = gd.closest('.output');\n",
       "if (outputEl) {{\n",
       "    x.observe(outputEl, {childList: true});\n",
       "}}\n",
       "\n",
       "                        })                };                });            </script>        </div>"
      ]
     },
     "metadata": {},
     "output_type": "display_data"
    }
   ],
   "source": [
    "fig = go.Figure(data=go.Choropleth(\n",
    "    locations=state_list, # Spatial coordinates\n",
    "    z = df['income'].astype(float), # Data to be color-coded\n",
    "    locationmode = 'USA-states', # set of locations match entries in `locations`\n",
    "    colorscale = 'Reds',\n",
    "    colorbar_title = \"Income USD\",\n",
    "))\n",
    "\n",
    "fig.update_layout(\n",
    "    title_text = 'TWM Customer Income by State',\n",
    "    geo_scope='usa', # limit map scope to USA\n",
    ")\n",
    "\n",
    "fig.show()"
   ]
  }
 ],
 "metadata": {
  "kernelspec": {
   "display_name": "Python 3",
   "language": "python",
   "name": "python3"
  },
  "language_info": {
   "codemirror_mode": {
    "name": "ipython",
    "version": 3
   },
   "file_extension": ".py",
   "mimetype": "text/x-python",
   "name": "python",
   "nbconvert_exporter": "python",
   "pygments_lexer": "ipython3",
   "version": "3.7.6"
  }
 },
 "nbformat": 4,
 "nbformat_minor": 4
}
